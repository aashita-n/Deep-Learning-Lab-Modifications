{
  "nbformat": 4,
  "nbformat_minor": 0,
  "metadata": {
    "colab": {
      "provenance": []
    },
    "kernelspec": {
      "name": "python3",
      "display_name": "Python 3"
    },
    "language_info": {
      "name": "python"
    }
  },
  "cells": [
    {
      "cell_type": "code",
      "execution_count": 3,
      "metadata": {
        "colab": {
          "base_uri": "https://localhost:8080/"
        },
        "id": "79RsQAZAwey-",
        "outputId": "2f4a6ecc-4b59-4893-809b-6794e836fa06"
      },
      "outputs": [
        {
          "output_type": "stream",
          "name": "stdout",
          "text": [
            "Epoch 1/2\n",
            "\u001b[1m750/750\u001b[0m \u001b[32m━━━━━━━━━━━━━━━━━━━━\u001b[0m\u001b[37m\u001b[0m \u001b[1m162s\u001b[0m 202ms/step - accuracy: 0.7038 - loss: 0.8652 - val_accuracy: 0.9672 - val_loss: 0.1073\n",
            "Epoch 2/2\n",
            "\u001b[1m750/750\u001b[0m \u001b[32m━━━━━━━━━━━━━━━━━━━━\u001b[0m\u001b[37m\u001b[0m \u001b[1m203s\u001b[0m 202ms/step - accuracy: 0.9570 - loss: 0.1459 - val_accuracy: 0.9784 - val_loss: 0.0766\n",
            "313/313 - 7s - 21ms/step - accuracy: 0.9782 - loss: 0.0682\n",
            "Test Accuracy: 0.98\n",
            "\u001b[1m1/1\u001b[0m \u001b[32m━━━━━━━━━━━━━━━━━━━━\u001b[0m\u001b[37m\u001b[0m \u001b[1m1s\u001b[0m 1s/step\n",
            "Top 1: Digit 6 with Probability: 99.95%\n",
            "Top 2: Digit 0 with Probability: 0.02%\n",
            "Top 3: Digit 4 with Probability: 0.01%\n"
          ]
        }
      ],
      "source": [
        "import numpy as np\n",
        "import tensorflow as tf\n",
        "from tensorflow.keras.datasets import mnist\n",
        "from tensorflow.keras.models import Sequential\n",
        "from tensorflow.keras.layers import Bidirectional, GRU, Dense, BatchNormalization, Dropout, LeakyReLU\n",
        "from tensorflow.keras.utils import to_categorical\n",
        "from tensorflow.keras.preprocessing.image import load_img, img_to_array\n",
        "\n",
        "(x_train, y_train), (x_test, y_test) = mnist.load_data()\n",
        "x_train = x_train / 255.0\n",
        "x_test = x_test / 255.0\n",
        "y_train = to_categorical(y_train, num_classes=10)\n",
        "y_test = to_categorical(y_test, num_classes=10)\n",
        "\n",
        "timesteps = x_train.shape[1]\n",
        "input_dim = x_train.shape[2]\n",
        "\n",
        "model = Sequential([\n",
        "    Bidirectional(GRU(128, return_sequences=True, dropout=0.2), input_shape=(timesteps, input_dim)),\n",
        "    BatchNormalization(),\n",
        "    Bidirectional(GRU(64, dropout=0.2)),\n",
        "    Dense(64),\n",
        "    LeakyReLU(alpha=0.1),\n",
        "    Dropout(0.3),\n",
        "    Dense(10, activation='softmax')\n",
        "])\n",
        "\n",
        "model.compile(optimizer=\"adam\", loss=\"categorical_crossentropy\", metrics=[\"accuracy\"])\n",
        "model.fit(x_train, y_train, epochs=2, batch_size=64, validation_split=0.2)\n",
        "test_loss, test_accuracy = model.evaluate(x_test, y_test, verbose=2)\n",
        "print(f\"Test Accuracy: {test_accuracy:.2f}\")\n",
        "\n",
        "def predict_image(image_path):\n",
        "    img = load_img(image_path, color_mode='grayscale', target_size=(28, 28))\n",
        "    img = img_to_array(img) / 255.0\n",
        "    img = np.mean(img, axis=-1)\n",
        "    img = 1 - img\n",
        "    img = img.reshape(1, 28, 28)\n",
        "    prediction = model.predict(img)\n",
        "    top_3_indices = np.argsort(prediction[0])[-3:][::-1]\n",
        "    top_3_probs = prediction[0][top_3_indices]\n",
        "    for i, (digit, prob) in enumerate(zip(top_3_indices, top_3_probs), 1):\n",
        "        print(f\"Top {i}: Digit {digit} with Probability: {prob * 100:.2f}%\")\n",
        "\n",
        "image_path = \"digit.png\"\n",
        "predict_image(image_path)\n"
      ]
    }
  ]
}