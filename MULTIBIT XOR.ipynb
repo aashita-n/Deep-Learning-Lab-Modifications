{
 "cells": [
  {
   "cell_type": "code",
   "execution_count": null,
   "id": "9e1cca1c-87cc-440e-b93e-34404200ed0b",
   "metadata": {},
   "outputs": [],
   "source": [
    "import numpy as np\n",
    "\n",
    "def unitStep(v):\n",
    "    return 1 if v >= 0 else 0\n",
    "\n",
    "def perceptronModel(x, w, b):\n",
    "    v = np.dot(w, x) + b\n",
    "    return unitStep(v)\n",
    "\n",
    "def NOT_logicFunction(x):\n",
    "    wNOT = -1\n",
    "    bNOT = 0.5\n",
    "    return perceptronModel(x, wNOT, bNOT)\n",
    "\n",
    "def AND_logicFunction(x):\n",
    "    w = np.array([1, 1])\n",
    "    bAND = -1.5\n",
    "    return perceptronModel(x, w, bAND)\n",
    "\n",
    "def OR_logicFunction(x):\n",
    "    \"\"\"OR logic function using the perceptron model.\"\"\"\n",
    "    w = np.array([1, 1])\n",
    "    bOR = -0.5\n",
    "    return perceptronModel(x, w, bOR)\n",
    "\n",
    "def XOR_logicFunction(x):\n",
    "    \"\"\"XOR logic function using AND, OR, and NOT logic functions.\"\"\"\n",
    "    y1 = AND_logicFunction(x)          # AND gate\n",
    "    y2 = OR_logicFunction(x)            # OR gate\n",
    "    y3 = NOT_logicFunction(y1)          # NOT gate\n",
    "    final_x = np.array([y2, y3])        # Inputs for the final AND\n",
    "    finalOutput = AND_logicFunction(final_x)  # Final output\n",
    "    return finalOutput\n",
    "\n",
    "def multiBitXOR(a, b):\n",
    "    \"\"\"Calculate XOR for two multi-bit binary numbers.\"\"\"\n",
    "    n = len(a)\n",
    "    result = np.zeros(n)\n",
    "    \n",
    "    for i in range(n):\n",
    "        x = np.array([a[i], b[i]])\n",
    "        result[i] = XOR_logicFunction(x)  # Using XOR_logicFunction for each bit\n",
    "    return result\n",
    "\n",
    "# 3-bit binary numbers\n",
    "a = np.array([1, 0, 1])  # Binary for 5\n",
    "b = np.array([0, 1, 1])  # Binary for 3\n",
    "\n",
    "# 4-bit binary numbers\n",
    "c = np.array([1, 0, 1, 0])  # Binary for 10\n",
    "d = np.array([1, 1, 0, 1])  # Binary for 13\n",
    "\n",
    "# Print the results of the multi-bit XOR\n",
    "print(\"XOR of {} and {} = {}\".format(a, b, multiBitXOR(a, b)))  # Expected: [1, 1, 0]\n",
    "print(\"XOR of {} and {} = {}\".format(c, d, multiBitXOR(c, d)))  # Expected: [0, 1, 1, 1]\n"
   ]
  }
 ],
 "metadata": {
  "kernelspec": {
   "display_name": "Python 3 (ipykernel)",
   "language": "python",
   "name": "python3"
  },
  "language_info": {
   "codemirror_mode": {
    "name": "ipython",
    "version": 3
   },
   "file_extension": ".py",
   "mimetype": "text/x-python",
   "name": "python",
   "nbconvert_exporter": "python",
   "pygments_lexer": "ipython3",
   "version": "3.12.4"
  }
 },
 "nbformat": 4,
 "nbformat_minor": 5
}
