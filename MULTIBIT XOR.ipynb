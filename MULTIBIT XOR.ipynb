{
 "cells": [
  {
   "cell_type": "code",
   "execution_count": null,
   "id": "9e1cca1c-87cc-440e-b93e-34404200ed0b",
   "metadata": {},
   "outputs": [],
   "source": [
    "import numpy as np\n",
    "\n",
    "def unitStep(v):\n",
    "    return 1 if v >= 0 else 0\n",
    "\n",
    "def perceptronModel(x, w, b):\n",
    "    v = np.dot(w, x) + b\n",
    "    return unitStep(v)\n",
    "\n",
    "def XOR_bit(x):\n",
    "    w = np.array([1, 1])\n",
    "    b = -1.5\n",
    "    return perceptronModel(x, w, b)\n",
    "\n",
    "def multiBitXOR(a, b):\n",
    "    n = len(a)\n",
    "    result = np.zeros(n)\n",
    "    \n",
    "    for i in range(n):\n",
    "        x = np.array([a[i], b[i]])\n",
    "        result[i] = XOR_bit(x)\n",
    "    \n",
    "    return result\n",
    "\n",
    "# 3-bit binary numbers\n",
    "a = np.array([1, 0, 1])  # Binary for 5\n",
    "b = np.array([0, 1, 1])  # Binary for 3\n",
    "\n",
    "# 4-bit binary numbers\n",
    "c = np.array([1, 0, 1, 0])  # Binary for 10\n",
    "d = np.array([1, 1, 0, 1])  # Binary for 13\n",
    "\n",
    "print(\"XOR of {} and {} = {}\".format(a, b, multiBitXOR(a, b)))\n",
    "print(\"XOR of {} and {} = {}\".format(c, d, multiBitXOR(c, d)))\n"
   ]
  }
 ],
 "metadata": {
  "kernelspec": {
   "display_name": "Python 3 (ipykernel)",
   "language": "python",
   "name": "python3"
  },
  "language_info": {
   "codemirror_mode": {
    "name": "ipython",
    "version": 3
   },
   "file_extension": ".py",
   "mimetype": "text/x-python",
   "name": "python",
   "nbconvert_exporter": "python",
   "pygments_lexer": "ipython3",
   "version": "3.12.4"
  }
 },
 "nbformat": 4,
 "nbformat_minor": 5
}
